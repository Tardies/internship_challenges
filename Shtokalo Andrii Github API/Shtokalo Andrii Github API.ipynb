{
 "cells": [
  {
   "cell_type": "code",
   "execution_count": 50,
   "id": "8dfcf80d-5f7c-4475-b58f-3e1e1cfb2ed1",
   "metadata": {},
   "outputs": [
    {
     "name": "stdout",
     "output_type": "stream",
     "text": [
      "Name                       Size    Contributors Count  Branch    Is Prtotected\n",
      "-----------------------  ------  --------------------  --------  ---------------\n",
      "\n",
      "codingitwrong.github.io    3775                  1060  master    False\n",
      "CrowdBall                    96                   988  master    False\n",
      "dramatiq                   2658                 30047  master    False\n",
      "druntime                  14939                 30070  master    False\n",
      "excalidraw                 5161                 30270  master    False\n",
      "IncentivesForGeeks            0                   988  main      False\n",
      "KentBeck                      2                   988  main      False\n",
      "Moire                        48                     1  master    ---\n",
      "Multihash-                   48                     1  master    ---\n",
      "MVM                           0                   988  master    False\n",
      "poker_table                 615                  1996  main      False\n",
      "Prune                       116                   988  master    False\n",
      "SidePot                       0                   988  master    False\n",
      "Smallest-Federated-Wiki    4072                 29675  master    False\n",
      "TCR                           1                  2010  master    False\n",
      "TCRCode                      28                   988  master    False\n",
      "tcrfiddle                    14                   988  master    False\n",
      "TDD-Tyrant                   83                   988  master    False\n",
      "TestDesiderata                4                   988  master    False\n",
      "TimeAndAttention              3                  1932  main      False\n"
     ]
    }
   ],
   "source": [
    "import requests\n",
    "from tabulate import tabulate\n",
    "import json\n",
    "#importing of everything useness\n",
    "\n",
    "USERNAME, ACCESS_KEY, USER = '', '', ''\n",
    "#creating of 3 variables\n",
    "#USERNAME is using for defining the user, which repos code will get\n",
    "#USER and ACCES_KEY are using for authenticating\n",
    "\n",
    "r = requests.get(f'https://api.github.com/users/{USERNAME}', auth=(USER, ACCESS_KEY))\n",
    "string = json.loads(r.text)\n",
    "repos = int(string['public_repos'])\n",
    "#getting number of repos\n",
    "\n",
    "r = requests.get(f'https://api.github.com/users/{USERNAME}/repos', auth=(USER, ACCESS_KEY))\n",
    "string = json.loads(r.text)\n",
    "#getting JSON as string\n",
    "\n",
    "name = [''] * repos\n",
    "size = [''] * repos\n",
    "contributors = [''] * repos\n",
    "default_branch = [''] * repos\n",
    "is_protected = [''] * repos\n",
    "#creating of lists\n",
    "\n",
    "for i in range(repos):\n",
    "    name[i] = string[i]['name']\n",
    "    size[i] = string[i]['size']\n",
    "    \n",
    "    r = requests.get(f'https://api.github.com/repos/{USERNAME}/{name[i]}/contributors', \n",
    "                                                            auth=(USER, ACCESS_KEY))\n",
    "    s = json.dumps(r.text)\n",
    "    contributors[i] = len(s) - 1\n",
    "    \n",
    "    if string[i]['default_branch'] != '':\n",
    "        default_branch[i] = string[i]['default_branch']\n",
    "    else:\n",
    "        default_branch[i] = '---'\n",
    "        \n",
    "    r = requests.get(f'https://api.github.com/repos/{USERNAME}/{name[i]}/branches', \n",
    "                                                            auth=(USER, ACCESS_KEY))\n",
    "    s = json.loads(r.text)\n",
    "    if len(s) > 0:\n",
    "        is_protected[i] = s[0]['protected']\n",
    "    else:\n",
    "        is_protected[i] = '---'\n",
    "#fulling of lists with data\n",
    "        \n",
    "table = ['']\n",
    "for i in range(repos):\n",
    "        table.append([name[i], str(size[i]), str(contributors[i]), \n",
    "                                            default_branch[i], str(is_protected[i])])\n",
    "headers = ['Name', 'Size', 'Contributors Count', 'Branch', 'Is Prtotected']\n",
    "print(tabulate(table, headers, tablefmt='simple'))\n",
    "#printing of table"
   ]
  },
  {
   "cell_type": "code",
   "execution_count": null,
   "id": "ed369f06-e899-4276-ab3c-bab9ef240cbf",
   "metadata": {},
   "outputs": [],
   "source": []
  }
 ],
 "metadata": {
  "kernelspec": {
   "display_name": "Python 3 (ipykernel)",
   "language": "python",
   "name": "python3"
  },
  "language_info": {
   "codemirror_mode": {
    "name": "ipython",
    "version": 3
   },
   "file_extension": ".py",
   "mimetype": "text/x-python",
   "name": "python",
   "nbconvert_exporter": "python",
   "pygments_lexer": "ipython3",
   "version": "3.10.4"
  }
 },
 "nbformat": 4,
 "nbformat_minor": 5
}
